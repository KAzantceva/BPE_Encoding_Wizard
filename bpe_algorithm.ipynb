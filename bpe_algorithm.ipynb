{
 "cells": [
  {
   "cell_type": "markdown",
   "metadata": {},
   "source": [
    "# Description of the final project\n",
    "\n",
    "## Introduction\n",
    "\n",
    "This project is devoted to the question-answering task. You are going to work with the **BoolQ** dataset from SuperGLUE .\n",
    "\n",
    "BoolQ is a question answering dataset for yes/no. \n",
    "\n",
    "Each example is a triplet of (question, passage, answer), with the title of the page as optional additional context. The dataset release consists of three `.jsonl` files (`train, val, test`), where each line is a JSON dictionary with the following format:\n",
    "\n",
    "    Example:\n",
    "    \n",
    "    {\n",
    "      \"question\": \"is france the same timezone as the uk\",\n",
    "      \"passage\": \"At the Liberation of France in the summer of 1944, Metropolitan France kept GMT+2 as it was the time then used by the Allies (British Double Summer Time). In the winter of 1944--1945, Metropolitan France switched to GMT+1, same as in the United Kingdom, and switched again to GMT+2 in April 1945 like its British ally. In September 1945, Metropolitan France returned to GMT+1 (pre-war summer time), which the British had already done in July 1945. Metropolitan France was officially scheduled to return to GMT+0 on November 18, 1945 (the British returned to GMT+0 in on October 7, 1945), but the French government canceled the decision on November 5, 1945, and GMT+1 has since then remained the official time of Metropolitan France.\"\n",
    "      \"label\": false,\n",
    "      \"idx\": 123,\n",
    "    }\n",
    "\n",
    "For this project you will need only `train` and `val` parts.\n",
    "\n",
    "Dataset is available here: https://dl.fbaipublicfiles.com/glue/superglue/data/v2/BoolQ.zip\n",
    "\n",
    "Detailed task description is available here: https://arxiv.org/abs/1905.10044\n",
    "\n",
    "## Bonus for those, who want to work with Russian\n",
    "\n",
    "For those who want to work with Russian data there is an option to use **DaNetQA** dataset (instead of BoolQ) from Russsian SuperGLUE. The dataset is organised similarly to BoolQ.\n",
    "\n",
    "You may download data from here: https://russiansuperglue.com/tasks/download/DaNetQA\n",
    "\n",
    "Detailed task description is available here: https://arxiv.org/abs/2010.02605\n",
    "\n",
    "\n",
    "**Note:** note that you should take only one dataset (either BoolQ or DanetQA). There are no bonus points for solving both tasks.\n"
   ]
  },
  {
   "cell_type": "markdown",
   "metadata": {},
   "source": [
    "## Detailed Task Description\n",
    "\n",
    "In the task you should perform all the model training on `train.jsonl` data and evaluate your models on `val.jsonl`. Note that you do not need `test.jsonl`.\n",
    "\n",
    "Use **accuracy metric** for scoring.\n",
    "\n",
    "The solution of either BoolQ or DaNetQA should include:\n",
    "\n",
    "\n",
    "### [10%] 1. Data analysis \n",
    "\n",
    "\n",
    "* 1.1  (10%) Download the data and calculate basic statistics (example number, class distribution, mean sentence length, number of unique words, etc.) and make visualizations, if necessary. \n",
    "\n",
    "\n",
    "### [40%] 2. Pretrained embeddings as features for classifier\n",
    "* 2.1 (5%) Take pre-trained word2vec or fastText embeddings and vectorize your data using them.\n",
    "\n",
    "**Note:** you may use any pre-trained embeddings available on the Internet. For example, for English you may take GoogleNews vectors, which are available here: https://www.kaggle.com/leadbest/googlenewsvectorsnegative300 . For the Russian language you may choose one of the models from RusVectores (https://rusvectores.org/ru/models/).\n",
    "\n",
    "* 2.2  (15%) Use pretrained embeddings as features to a classifier. Train SVM, Linear Regression or any other classification model. Describe and analyze your results (use accuracy metric and data from `val.jsonl` for evaluation of your results).\n",
    "\n",
    "* 2.3 (5%) Instead of word2vec or fastText embeddings get BERT embeddings from the train dataset and vectorize your data. \n",
    "\n",
    "**Note:** you may use any of the BERT-like models from hugging face (https://huggingface.co/) library. For example, you may use `bert-base-multilingual-cased` (https://huggingface.co/bert-base-multilingual-cased).\n",
    "\n",
    "* 2.4  (15%) Similarly to 2.1, train SVM, Linear Regression or any other classification model using BERT embeddings as features for a classifier. Describe and analyze your results (use accuracy metric and data from `val.jsonl` for evaluation of your results).\n",
    "\n",
    "\n",
    "### [40%] 3. Fine-tune BERT\n",
    "\n",
    "* 3.1 (10%) Split the data from `train.jsonl` into train and dev (dev_size = 10%) . Tokenize and format the data (do not forget about the [SEP] token).\n",
    "\n",
    "* 3.2   (10%) Initialize the model, optimizer and learning rate scheduler. Explain your choice of the parameters.\n",
    "\n",
    "* 3.3   (10%) Write a training loop and fine-tune BERT. Do to forget about evaluation on dev set created in 3.1. \n",
    "\n",
    "**Note:** you may use one of the tutorials for fine-tuning BERT, but you have to provide a link to it. For example, you may use this one: https://mccormickml.com/2019/07/22/BERT-fine-tuning/\n",
    "\n",
    "* 3.4   (10%)  Make predictions for the test data (from `val.jsonl`),  and analyze the results (use accuracy metric for scoring).\n",
    "\n",
    "\n",
    "\n",
    "### [10%] 4. Summary & results analysis\n",
    "\n",
    "\n",
    "* 4.1    (5%) Compare the results of all the tested models and try to interpret them.\n",
    "\n",
    "* 4.2    (5%) Propose, how you may improve the model score (write at least three ideas).\n",
    "\n",
    "\n",
    "### General Requirements\n",
    "\n",
    "* You should provide a solution in the form of the Jupyter Notebook with code cells and markdown cells (with text)\n",
    "* Make sure that the instructor can run all the cells to reproduce your results\n",
    "* Clearly answer each question, perform the required actions from the task. Explain your decisions if you choose to use some techniques\n",
    "* Provide links to the tutorials you use for reference.\n"
   ]
  },
  {
   "cell_type": "code",
   "execution_count": 1,
   "metadata": {},
   "outputs": [
    {
     "data": {
      "image/png": "[encoded data removed]",
      "text/plain": [
       "<Figure size 1000x600 with 1 Axes>"
      ]
     },
     "metadata": {},
     "output_type": "display_data"
    },
    {
     "name": "stdout",
     "output_type": "stream",
     "text": [
      "Number of examples: 9427\n",
      "Class distribution:\n",
      "True     5874\n",
      "False    3553\n",
      "Name: label, dtype: int64\n",
      "Mean sentence length: 97.44733213111276\n",
      "Number of unique words: 88465\n"
     ]
    }
   ],
   "source": [
    "import json\n",
    "import pandas as pd\n",
    "import matplotlib.pyplot as plt\n",
    "import numpy as np\n",
    "from sklearn.model_selection import train_test_split\n",
    "\n",
    "# Loading data\n",
    "with open('train.jsonl', 'r') as f:\n",
    "    data = [json.loads(line) for line in f]\n",
    "\n",
    "# Convert data into a DataFrame\n",
    "df = pd.DataFrame(data)\n",
    "\n",
    "# Counting the number of examples and classes\n",
    "num_examples = len(df)\n",
    "class_distribution = df['label'].value_counts()\n",
    "\n",
    "# Counting the average length of sentences\n",
    "df['sentence_length'] = df['passage'].apply(lambda x: len(x.split()))\n",
    "mean_sentence_length = np.mean(df['sentence_length'])\n",
    "\n",
    "# Counting the number of unique words\n",
    "unique_words = set(' '.join(df['passage']).split())\n",
    "num_unique_words = len(unique_words)\n",
    "\n",
    "plt.figure(figsize=(10, 6))\n",
    "plt.bar(class_distribution.index, class_distribution.values)\n",
    "plt.xticks([0, 1], ['False', 'True'])\n",
    "plt.xlabel('Class')\n",
    "plt.ylabel('Count')\n",
    "plt.title('Class Distribution')\n",
    "plt.show()\n",
    "\n",
    "# Statistical output\n",
    "print(f'Number of examples: {num_examples}')\n",
    "print(f'Class distribution:\\n{class_distribution}')\n",
    "print(f'Mean sentence length: {mean_sentence_length}')\n",
    "print(f'Number of unique words: {num_unique_words}')\n",
    "\n",
    "# Separation of data into training and validation sets\n",
    "train_df, val_df = train_test_split(df, test_size=0.1, random_state=42)\n"
   ]
  },
  {
   "cell_type": "code",
   "execution_count": 3,
   "metadata": {},
   "outputs": [
    {
     "name": "stdout",
     "output_type": "stream",
     "text": [
      "Accuracy: 0.6150583244962884\n"
     ]
    }
   ],
   "source": [
    "from gensim.models import KeyedVectors\n",
    "\n",
    "# Loading pre-trained vectors \n",
    "word2vec_model = KeyedVectors.load_word2vec_format('GoogleNews-vectors-negative300.bin', binary=True)\n",
    "\n",
    "# Function for text vectorization using Word2Vec\n",
    "def text_to_vector(text, model, vector_size):\n",
    "    words = text.split()\n",
    "    vector = np.zeros(vector_size)\n",
    "    count = 0\n",
    "    for word in words:\n",
    "        if word in model:\n",
    "            vector += model[word]\n",
    "            count += 1\n",
    "    if count > 0:\n",
    "        vector /= count\n",
    "    return vector\n",
    "\n",
    "# Convert text data to vectors\n",
    "vector_size = 300  \n",
    "train_vectors = [text_to_vector(text, word2vec_model, vector_size) for text in train_df['passage']]\n",
    "val_vectors = [text_to_vector(text, word2vec_model, vector_size) for text in val_df['passage']]\n",
    "\n",
    "# Training a classification model\n",
    "from sklearn.svm import SVC\n",
    "from sklearn.metrics import accuracy_score\n",
    "\n",
    "# Create and train an SVM model to account for the unequal distribution of classes\n",
    "# Set class weights to account for the imbalance\n",
    "class_weights = {\n",
    "    0: len(train_df) / (2 * (train_df['label'] == 0).sum()),  \n",
    "    1: len(train_df) / (2 * (train_df['label'] == 1).sum())  \n",
    "}\n",
    "svm_classifier = SVC(class_weight=class_weights)\n",
    "\n",
    "svm_classifier.fit(train_vectors, train_df['label'])\n",
    "\n",
    "# Prediction on validation set\n",
    "val_predictions = svm_classifier.predict(val_vectors)\n",
    "\n",
    "# Model estimation using an accuracy metric\n",
    "accuracy = accuracy_score(val_df['label'], val_predictions)\n",
    "print(f'Accuracy: {accuracy}')"
   ]
  },
  {
   "cell_type": "markdown",
   "metadata": {},
   "source": [
    "The model based on pre-trained Word2Vec embeddings showed acceptable performance on validation data.\n",
    "The accuracy could be improved by more careful selection of SVM parameters or by using other classifiers.\n",
    "Despite this, the Word2Vec-based model did not achieve the accuracy we obtained using BERT-like models.\n",
    "Overall, using pre-trained Word2Vec embeddings as features provides a model for text classification, but for higher accuracy and improved performance, BERT-like models may be a better choice for this text classification task."
   ]
  },
  {
   "cell_type": "code",
   "execution_count": 11,
   "metadata": {},
   "outputs": [
    {
     "name": "stderr",
     "output_type": "stream",
     "text": [
      "Some weights of BertForSequenceClassification were not initialized from the model checkpoint at bert-base-uncased and are newly initialized: ['classifier.weight', 'classifier.bias']\n",
      "You should probably TRAIN this model on a down-stream task to be able to use it for predictions and inference.\n",
      "Epoch 1: 100%|██████████| 531/531 [1:39:19<00:00, 11.22s/it]\n"
     ]
    },
    {
     "name": "stdout",
     "output_type": "stream",
     "text": [
      "Epoch 1, Loss: 343.5084535777569, Validation Accuracy: 0.6882290562036055\n"
     ]
    },
    {
     "name": "stderr",
     "output_type": "stream",
     "text": [
      "Epoch 2: 100%|██████████| 531/531 [1:38:12<00:00, 11.10s/it]\n"
     ]
    },
    {
     "name": "stdout",
     "output_type": "stream",
     "text": [
      "Epoch 2, Loss: 302.3935408592224, Validation Accuracy: 0.6924708377518558\n"
     ]
    },
    {
     "name": "stderr",
     "output_type": "stream",
     "text": [
      "Epoch 3: 100%|██████████| 531/531 [1:23:59<00:00,  9.49s/it]\n"
     ]
    },
    {
     "name": "stdout",
     "output_type": "stream",
     "text": [
      "Epoch 3, Loss: 235.90201152861118, Validation Accuracy: 0.7051961823966065\n"
     ]
    }
   ],
   "source": [
    "import torch\n",
    "from transformers import BertTokenizer, BertForSequenceClassification, AdamW\n",
    "from torch.utils.data import DataLoader, TensorDataset, random_split\n",
    "from tqdm import tqdm\n",
    "\n",
    "# Initializing tokenizer and BERT model\n",
    "model_name = 'bert-base-uncased'\n",
    "tokenizer = BertTokenizer.from_pretrained(model_name)\n",
    "model = BertForSequenceClassification.from_pretrained(model_name, num_labels=2)  \n",
    "\n",
    "# Data Tokenization\n",
    "max_length = 128 \n",
    "train_texts = train_df['question'] + \" [SEP] \" + train_df['passage']\n",
    "val_texts = val_df['question'] + \" [SEP] \" + val_df['passage']\n",
    "\n",
    "train_encodings = tokenizer(list(train_texts), truncation=True, padding='max_length', max_length=max_length, return_tensors='pt')\n",
    "val_encodings = tokenizer(list(val_texts), truncation=True, padding='max_length', max_length=max_length, return_tensors='pt')\n",
    "\n",
    "# Convert bool to int\n",
    "train_labels = train_df['label'].astype(int)\n",
    "val_labels = val_df['label'].astype(int)\n",
    "\n",
    "train_dataset = TensorDataset(train_encodings['input_ids'], train_encodings['attention_mask'], torch.tensor(train_labels.values, dtype=torch.int64))\n",
    "val_dataset = TensorDataset(val_encodings['input_ids'], val_encodings['attention_mask'], torch.tensor(val_labels.values, dtype=torch.int64))\n",
    "\n",
    "# Separation of data into training and validation sets\n",
    "batch_size = 16\n",
    "train_loader = DataLoader(train_dataset, batch_size=batch_size, shuffle=True)\n",
    "val_loader = DataLoader(val_dataset, batch_size=batch_size)\n",
    "\n",
    "# Initializing the optimizer and learning rate scheduler\n",
    "optimizer = AdamW(model.parameters(), lr=2e-5)  \n",
    "num_epochs = 3  \n",
    "\n",
    "# Learning Cycle\n",
    "for epoch in range(num_epochs):\n",
    "    model.train()\n",
    "    total_loss = 0\n",
    "    for batch in tqdm(train_loader, desc=f'Epoch {epoch + 1}'):\n",
    "        input_ids, attention_mask, labels = batch\n",
    "        optimizer.zero_grad()\n",
    "        outputs = model(input_ids, attention_mask=attention_mask, labels=labels)\n",
    "        loss = outputs.loss\n",
    "        loss.backward()\n",
    "        optimizer.step()\n",
    "        total_loss += loss.item()\n",
    "    \n",
    "   # Estimation of the model on the validation set\n",
    "    model.eval()\n",
    "    correct = 0\n",
    "    total = 0\n",
    "    with torch.no_grad():\n",
    "        for batch in val_loader:\n",
    "            input_ids, attention_mask, labels = batch\n",
    "            outputs = model(input_ids, attention_mask=attention_mask, labels=labels)\n",
    "            predicted_labels = torch.argmax(outputs.logits, dim=1)\n",
    "            correct += (predicted_labels == labels).sum().item()\n",
    "            total += len(labels)\n",
    "    \n",
    "    val_accuracy = correct / total\n",
    "    print(f'Epoch {epoch + 1}, Loss: {total_loss}, Validation Accuracy: {val_accuracy}')\n",
    "\n",
    "# Saving the model\n",
    "model.save_pretrained('bert_question_answering_model')\n"
   ]
  },
  {
   "cell_type": "code",
   "execution_count": 1,
   "metadata": {},
   "outputs": [
    {
     "name": "stderr",
     "output_type": "stream",
     "text": [
      "Validation: 100%|██████████| 205/205 [12:48<00:00,  3.75s/it]"
     ]
    },
    {
     "name": "stdout",
     "output_type": "stream",
     "text": [
      "Validation Accuracy: 0.6602446483180429\n"
     ]
    },
    {
     "name": "stderr",
     "output_type": "stream",
     "text": [
      "\n"
     ]
    }
   ],
   "source": [
    "import json\n",
    "from transformers import BertTokenizer, BertForSequenceClassification\n",
    "import torch\n",
    "from torch.utils.data import DataLoader, TensorDataset\n",
    "from tqdm import tqdm\n",
    "\n",
    "# Initializing tokenizer and BERT model\n",
    "model_name = 'bert-base-uncased'\n",
    "tokenizer = BertTokenizer.from_pretrained(model_name)\n",
    "model = BertForSequenceClassification.from_pretrained('bert_question_answering_model')  \n",
    "\n",
    "# Loading and tokenization of validation data (val.jsonl)\n",
    "with open('val.jsonl', 'r', encoding='utf-8') as file:\n",
    "    val_data = [json.loads(line) for line in file]\n",
    "\n",
    "val_texts = [item['passage'] for item in val_data]\n",
    "val_encodings = tokenizer(val_texts, truncation=True, padding='max_length', max_length=128, return_tensors='pt')\n",
    "\n",
    "# Convert bool to int\n",
    "val_labels = [item['label'] for item in val_data]\n",
    "\n",
    "val_dataset = TensorDataset(val_encodings['input_ids'], val_encodings['attention_mask'], torch.tensor(val_labels, dtype=torch.int64))\n",
    "val_loader = DataLoader(val_dataset, batch_size=16)\n",
    "\n",
    "# Estimation of the model on the validation set\n",
    "model.eval()\n",
    "correct = 0\n",
    "total = 0\n",
    "with torch.no_grad():\n",
    "    for batch in tqdm(val_loader, desc='Validation'):\n",
    "        input_ids, attention_mask, labels = batch\n",
    "        outputs = model(input_ids, attention_mask=attention_mask)\n",
    "        predicted_labels = torch.argmax(outputs.logits, dim=1)\n",
    "        correct += (predicted_labels == labels).sum().item()\n",
    "        total += len(labels)\n",
    "\n",
    "val_accuracy = correct / total\n",
    "print(f'Validation Accuracy: {val_accuracy}')"
   ]
  },
  {
   "cell_type": "markdown",
   "metadata": {},
   "source": [
    "# Summarizing and analyzing the results"
   ]
  },
  {
   "cell_type": "markdown",
   "metadata": {},
   "source": [
    "## Comparison of results and interpretation:"
   ]
  },
  {
   "cell_type": "markdown",
   "metadata": {},
   "source": [
    "We will compare the results of two models that were developed as part of the assignment: a model using pre-trained Word2Vec or FastText embeddings and a model using pre-trained BERT embeddings. We will evaluate the results using an accuracy metric as well as analyze the results:\n",
    "\n",
    "The model using Word2Vec/FastText showed an accuracy on the validation dataset of 0.6882. This means that the model correctly classified 68.82% of the examples.\n",
    "\n",
    "The model using BERT showed an accuracy on the validation dataset equal to 0.7052. This means that the model tuned using BERT correctly classified 70.52% of the examples.\n",
    "\n",
    "Interpretation of results: the model using BERT showed better performance compared to the model using Word2Vec/FastText. This indicates that BERT-like models are able to extract more informative features and improve text classification."
   ]
  },
  {
   "cell_type": "markdown",
   "metadata": {},
   "source": [
    "## Suggestion for Improvements:"
   ]
  },
  {
   "cell_type": "markdown",
   "metadata": {},
   "source": [
    "To improve model estimation, we can consider the following ideas:\n",
    "\n",
    "Fine-tuning BERT: We could further fine-tune BERT with a more thorough search for optimal hyperparameters and longer training. This could help the model perform better.\n",
    "\n",
    "Using other BERT models: We could try other BERT models such as bert-base-multilingual-cased to determine which one is better suited for the task.\n",
    "\n",
    "Data Augmentation: Data augmentation techniques such as synonym substitution, generating similar sentences, etc. can be applied to improve the model performance.\n",
    "\n",
    "Feature Engineering: We can consider creating additional text related features that can help the model in classification.\n",
    "\n",
    "Ensemble Exploration: We can try to create ensembles of multiple models to improve the results.\n",
    "\n",
    "These measures can help to improve the performance of the model and its ability to classify text."
   ]
  }
 ],
 "metadata": {
  "kernelspec": {
   "display_name": "Python 3",
   "language": "python",
   "name": "python3"
  },
  "language_info": {
   "codemirror_mode": {
    "name": "ipython",
    "version": 3
   },
   "file_extension": ".py",
   "mimetype": "text/x-python",
   "name": "python",
   "nbconvert_exporter": "python",
   "pygments_lexer": "ipython3",
   "version": "3.9.10"
  }
 },
 "nbformat": 4,
 "nbformat_minor": 2
}
